{
  "nbformat": 4,
  "nbformat_minor": 0,
  "metadata": {
    "colab": {
      "provenance": [],
      "authorship_tag": "ABX9TyN24bZDa+Qwek6DeKxueLZF",
      "include_colab_link": true
    },
    "kernelspec": {
      "name": "python3",
      "display_name": "Python 3"
    },
    "language_info": {
      "name": "python"
    }
  },
  "cells": [
    {
      "cell_type": "markdown",
      "metadata": {
        "id": "view-in-github",
        "colab_type": "text"
      },
      "source": [
        "<a href=\"https://colab.research.google.com/github/NimalDas/python_for_devops_jan_23/blob/main/python_for_devops.ipynb\" target=\"_parent\"><img src=\"https://colab.research.google.com/assets/colab-badge.svg\" alt=\"Open In Colab\"/></a>"
      ]
    },
    {
      "cell_type": "markdown",
      "source": [
        "## Intoduction to Python\n"
      ],
      "metadata": {
        "id": "UJ_hS82WfSyE"
      }
    },
    {
      "cell_type": "markdown",
      "source": [
        "### Print Statement"
      ],
      "metadata": {
        "id": "IoA6kOWPiCcz"
      }
    },
    {
      "cell_type": "code",
      "source": [
        "print(\"Hello World!\")"
      ],
      "metadata": {
        "colab": {
          "base_uri": "https://localhost:8080/"
        },
        "id": "45199jQmiP2c",
        "outputId": "ae1c3942-5ab9-42ba-eb7c-77c259a7cb13"
      },
      "execution_count": 3,
      "outputs": [
        {
          "output_type": "stream",
          "name": "stdout",
          "text": [
            "Hello World!\n"
          ]
        }
      ]
    },
    {
      "cell_type": "code",
      "source": [
        "meal = {\"breafast\":\"eggs\", \"lunch\":\"rice and dal\", \"Dinner\":\"fruits\"}\n",
        "print(f\"{meal}\")\n",
        "meal.items()"
      ],
      "metadata": {
        "colab": {
          "base_uri": "https://localhost:8080/"
        },
        "id": "maq7D7YcjiJ8",
        "outputId": "9e2d0dc8-961c-48ce-c53f-7e7458cff9b0"
      },
      "execution_count": 12,
      "outputs": [
        {
          "output_type": "stream",
          "name": "stdout",
          "text": [
            "{'breafast': 'eggs', 'lunch': 'rice and dal', 'Dinner': 'fruits'}\n"
          ]
        },
        {
          "output_type": "execute_result",
          "data": {
            "text/plain": [
              "dict_items([('breafast', 'eggs'), ('lunch', 'rice and dal'), ('Dinner', 'fruits')])"
            ]
          },
          "metadata": {},
          "execution_count": 12
        }
      ]
    },
    {
      "cell_type": "code",
      "source": [
        "for meal_name, meal_item in meal.items():\n",
        "  print(f\"For {meal_name}, I like to have {meal_item}\")"
      ],
      "metadata": {
        "colab": {
          "base_uri": "https://localhost:8080/"
        },
        "id": "Y-o7CSs-ldbF",
        "outputId": "fb225d00-f113-4c15-dbdb-c9e3667d1d07"
      },
      "execution_count": 13,
      "outputs": [
        {
          "output_type": "stream",
          "name": "stdout",
          "text": [
            "For breafast, I like to have eggs\n",
            "For lunch, I like to have rice and dal\n",
            "For Dinner, I like to have fruits\n"
          ]
        }
      ]
    }
  ]
}